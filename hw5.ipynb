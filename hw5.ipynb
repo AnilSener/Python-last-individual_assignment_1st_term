{
 "metadata": {
  "name": "",
  "signature": "sha256:04c30af23906d49c4f47974b5396cf48be90078aced327ff18c8ae020ed0f0cc"
 },
 "nbformat": 3,
 "nbformat_minor": 0,
 "worksheets": [
  {
   "cells": [
    {
     "cell_type": "heading",
     "level": 1,
     "metadata": {},
     "source": [
      "Economical Crisis in Russia: How Russian Minerals affect value of Russian Ruble?"
     ]
    },
    {
     "cell_type": "code",
     "collapsed": false,
     "input": [
      "import matplotlib.pyplot as plt\n",
      "%matplotlib inline\n",
      "from IPython.display import Image\n",
      "from IPython.display import HTML\n",
      "import pandas as pd\n",
      "from urllib import urlretrieve\n",
      "import numpy as np\n",
      "import requests as rq\n",
      "import json\n",
      "from datetime import datetime\n",
      "def toFloat(n):\n",
      "    return float(n)"
     ],
     "language": "python",
     "metadata": {},
     "outputs": [],
     "prompt_number": 1
    },
    {
     "cell_type": "code",
     "collapsed": false,
     "input": [
      "SoftLinked = Image(url='http://news.bbcimg.co.uk/media/images/79775000/gif/_79775521_oil_rouble_624.gif')\n",
      "SoftLinked"
     ],
     "language": "python",
     "metadata": {},
     "outputs": [
      {
       "html": [
        "<img src=\"http://news.bbcimg.co.uk/media/images/79775000/gif/_79775521_oil_rouble_624.gif\"/>"
       ],
       "metadata": {},
       "output_type": "pyout",
       "prompt_number": 2,
       "text": [
        "<IPython.core.display.Image at 0x7f258c4239d0>"
       ]
      }
     ],
     "prompt_number": 2
    },
    {
     "cell_type": "code",
     "collapsed": false,
     "input": [
      "HTML('<iframe  width=\"1000\" height=\"350\" frameborder=\"0\" src=http://www.bbc.com/news/business-30492518></iframe>')\n"
     ],
     "language": "python",
     "metadata": {},
     "outputs": [
      {
       "html": [
        "<iframe  width=\"1000\" height=\"350\" frameborder=\"0\" src=http://www.bbc.com/news/business-30492518></iframe>"
       ],
       "metadata": {},
       "output_type": "pyout",
       "prompt_number": 3,
       "text": [
        "<IPython.core.display.HTML at 0x7f258c423710>"
       ]
      }
     ],
     "prompt_number": 3
    },
    {
     "cell_type": "code",
     "collapsed": false,
     "input": [
      "HTML('<iframe  width=\"1000\" height=\"500\" frameborder=\"0\" src=http://www.economist.com/blogs/economist-explains/2014/12/economist-explains-4></iframe>')"
     ],
     "language": "python",
     "metadata": {},
     "outputs": [
      {
       "html": [
        "<iframe  width=\"1000\" height=\"500\" frameborder=\"0\" src=http://www.economist.com/blogs/economist-explains/2014/12/economist-explains-4></iframe>"
       ],
       "metadata": {},
       "output_type": "pyout",
       "prompt_number": 4,
       "text": [
        "<IPython.core.display.HTML at 0x7f258c423150>"
       ]
      }
     ],
     "prompt_number": 4
    },
    {
     "cell_type": "code",
     "collapsed": false,
     "input": [
      "#source:http://atlas.media.mit.edu/profile/country/rus/, in fact I tried to do some web scrapping and iframe html embedding; but this object has problems in Firefox\n",
      "SoftLinked = Image(filename='russian_exports.jpg')\n",
      "SoftLinked"
     ],
     "language": "python",
     "metadata": {},
     "outputs": [
      {
       "jpeg": "[encoded data removed]",
       "metadata": {},
       "output_type": "pyout",
       "prompt_number": 5,
       "text": [
        "<IPython.core.display.Image at 0x7f258c423490>"
       ]
      }
     ],
     "prompt_number": 5
    },
    {
     "cell_type": "heading",
     "level": 6,
     "metadata": {},
     "source": [
      "Top Gross exports of russia are Crude Petroleum and its subproducts (I am not involving the other petroleum products because they would have high multicollinearity,although percentage of Gold and Aluminuim are less they are still important indicators of Russian economy with respect cash inflow. (Couldn't find daily historical data for semi- finished iron prices, In fact I was going to get sentimental data processed on Social Media results in Russia -bearish/bullish behaviour-, just to check whether the journalist in the articles is right but the data records were too few, so I can't make inferences for the crisis.) Since the most relevant oil prices for Russia are Brent Crude Oil Prices; this variable will be taken into account."
     ]
    },
    {
     "cell_type": "code",
     "collapsed": false,
     "input": [
      "#mineral prices are retrived from Quandl.com\n",
      "mineralsList={'Oil':'GOOG/EPA_BRNTB','Gold':'WGC/GOLD_DAILY_EUR','Aluminium':'OFDP/ALUMINIUM_21'}\n",
      "mineralPrices=dict()\n",
      "for mineral,link in mineralsList.iteritems():\n",
      "    r = rq.get('https://www.quandl.com/api/v1/datasets/'+link+'.json?auth_token=tmbLxTLhs7qhGt8v2waz&collapse=daily',stream=True)\n",
      "    mineralPrices[mineral] = json.loads(r.text)"
     ],
     "language": "python",
     "metadata": {},
     "outputs": []
    },
    {
     "cell_type": "code",
     "collapsed": false,
     "input": [
      "#Russian Currency Exchange historical info is obtained from European Central Bank\n",
      "link = 'https://www.ecb.europa.eu/stats/eurofxref/eurofxref-hist.zip?c30e4ce4045104516bd91f0a4d9c7c23'\n",
      "urlretrieve(link, \"fx.zip\") \n",
      "!unzip \"fx.zip\""
     ],
     "language": "python",
     "metadata": {},
     "outputs": [
      {
       "output_type": "stream",
       "stream": "stdout",
       "text": [
        "Archive:  fx.zip\r\n",
        "replace eurofxref-hist.csv? [y]es, [n]o, [A]ll, [N]one, [r]ename: "
       ]
      }
     ]
    },
    {
     "cell_type": "code",
     "collapsed": false,
     "input": [
      "\n",
      "dffx=pd.read_csv(\"eurofxref-hist.csv\",index_col=\"Date\")\n",
      "#Division to understand dollars exhange rate\n",
      "rubFX=dffx[\"USD\"].map(toFloat)/dffx[\"RUB\"]\n",
      "rubFX.index=pd.to_datetime(rubFX.index)\n",
      "rubFX=rubFX.ix[datetime(2014,11,28,0,0,0):datetime(2005,12,30,0,0,0)]\n",
      "rubFX=rubFX.to_frame(name=\"RUB\")\n",
      "rubFX"
     ],
     "language": "python",
     "metadata": {},
     "outputs": []
    },
    {
     "cell_type": "code",
     "collapsed": false,
     "input": [
      "df=pd.DataFrame(columns=[\"Date\",\"MineralType\",\"Price\"])\n",
      "def add_row(df, row, mineraltype):\n",
      "    mineralprice =row[1]\n",
      "    df.loc[row[0]+mineraltype]= [row[0],mineraltype,mineralprice]\n",
      "\n",
      "for key,value in mineralPrices.iteritems():\n",
      "    for row in value[\"data\"]:\n",
      "        add_row(df, row, key)\n",
      "\n",
      "df=df.pivot(index='Date', columns='MineralType', values='Price')\n",
      "df.index=pd.to_datetime(df.index)\n",
      "columns=df.columns\n",
      "df=df.join(dffx)\n",
      "#Converting Gold Price in Euros to USD value accoriding to the exchange rate at that date\n",
      "df[\"Gold\"]=df[\"Gold\"].map(toFloat)*df[\"USD\"]\n",
      "df=df[columns]\n",
      "df"
     ],
     "language": "python",
     "metadata": {},
     "outputs": []
    },
    {
     "cell_type": "heading",
     "level": 6,
     "metadata": {},
     "source": [
      "Integrating and Cleansing the data set"
     ]
    },
    {
     "cell_type": "code",
     "collapsed": false,
     "input": [
      "dfAll=rubFX.join(df)\n",
      "dfAll.dropna(inplace=True)\n",
      "dfAll"
     ],
     "language": "python",
     "metadata": {},
     "outputs": []
    },
    {
     "cell_type": "heading",
     "level": 6,
     "metadata": {},
     "source": [
      "The figure above shows that world gold prices have had a steep decline this year, Russian Ruble has continued to be devaluated.\n"
     ]
    },
    {
     "cell_type": "code",
     "collapsed": false,
     "input": [
      "import statsmodels.api as sm # statmodels import convention\n",
      "import statsmodels.formula.api as smf\n",
      "from statsmodels.formula.api import ols # ordinary least squares\n",
      "formula = \"RUB ~ Oil\" \n",
      "model1 = ols(formula, dfAll).fit()\n",
      "model1.summary()"
     ],
     "language": "python",
     "metadata": {},
     "outputs": []
    },
    {
     "cell_type": "code",
     "collapsed": false,
     "input": [
      "formula = \"RUB ~ Gold\" \n",
      "model2 = ols(formula, dfAll).fit()\n",
      "model2.summary()"
     ],
     "language": "python",
     "metadata": {},
     "outputs": []
    },
    {
     "cell_type": "code",
     "collapsed": false,
     "input": [
      "\n",
      "monthly_2014=pd.groupby(dfAll[dfAll.index.year==2014],by=dfAll[dfAll.index.year==2014].index.month).mean()\n",
      " \n",
      "fig, ax1 = plt.subplots(figsize=(14,8))\n",
      "\n",
      "ax2 = ax1.twinx()\n",
      "ax1.plot(monthly_2014.index, monthly_2014[\"RUB\"], 'g-',label=\"RUB/USD FX\")\n",
      "first_legend = ax1.legend(loc=2)\n",
      "ax1.add_artist(first_legend)\n",
      "ax1.set_xticks(ticks=np.arange(1,12))\n",
      "ax1.set_xticklabels(labels=np.arange(1,12))\n",
      "ax2.plot(monthly_2014.index, monthly_2014[\"Gold\"], 'b-',label=\"Gold Price\")\n",
      "second_legend = ax2.legend(loc=1)\n",
      "ax2.add_artist(second_legend)\n",
      "ax1.set_xlabel('Months')\n",
      "ax1.set_ylabel('Russian Ruble/USD FX', color='g')\n",
      "\n",
      "ax2.set_ylabel('Average Monthly Gold Prices (in USD)', color='b')\n",
      "plt.title(\"Gold Prices vs. Russian Ruble/USD FX in year 2014\")\n",
      "plt.show()"
     ],
     "language": "python",
     "metadata": {},
     "outputs": []
    },
    {
     "cell_type": "code",
     "collapsed": false,
     "input": [
      "The graph above shows that there is a parallel trend between RUB and Gold mineral; "
     ],
     "language": "python",
     "metadata": {},
     "outputs": []
    },
    {
     "cell_type": "code",
     "collapsed": false,
     "input": [
      "formula = \"RUB ~ Oil + Gold\" \n",
      "model3 = ols(formula, dfAll).fit()\n",
      "model3.summary()"
     ],
     "language": "python",
     "metadata": {},
     "outputs": []
    },
    {
     "cell_type": "code",
     "collapsed": false,
     "input": [
      "formula = \"RUB ~ Oil * Gold\" \n",
      "model4 = ols(formula, dfAll).fit()\n",
      "model4.summary()"
     ],
     "language": "python",
     "metadata": {},
     "outputs": []
    },
    {
     "cell_type": "code",
     "collapsed": false,
     "input": [
      "formula = \"RUB ~ Aluminium\" \n",
      "model6 = ols(formula, dfAll).fit()\n",
      "model6.summary()"
     ],
     "language": "python",
     "metadata": {},
     "outputs": []
    },
    {
     "cell_type": "code",
     "collapsed": false,
     "input": [
      "formula = \"RUB ~ Oil + Gold + Aluminium\" \n",
      "model7 = ols(formula, dfAll).fit()\n",
      "model7.summary()"
     ],
     "language": "python",
     "metadata": {},
     "outputs": []
    },
    {
     "cell_type": "code",
     "collapsed": false,
     "input": [
      "formula = \"RUB ~ Oil + Aluminium\" \n",
      "model8 = ols(formula, dfAll).fit()\n",
      "model8.summary()"
     ],
     "language": "python",
     "metadata": {},
     "outputs": []
    },
    {
     "cell_type": "code",
     "collapsed": false,
     "input": [
      "formula = \"RUB ~ Gold + Aluminium\" \n",
      "model9 = ols(formula, dfAll).fit()\n",
      "model9.summary()"
     ],
     "language": "python",
     "metadata": {},
     "outputs": []
    },
    {
     "cell_type": "code",
     "collapsed": false,
     "input": [
      "from statsmodels.stats.anova import anova_lm\n",
      "\n",
      "t1 = anova_lm(model1,model3)\n",
      "t2 = anova_lm(model1,model4)\n",
      "t3 = anova_lm(model3,model4)\n",
      "t4 = anova_lm(model1,model9)\n",
      "print t1\n",
      "print t2\n",
      "print t3\n",
      "print t4"
     ],
     "language": "python",
     "metadata": {},
     "outputs": []
    },
    {
     "cell_type": "heading",
     "level": 6,
     "metadata": {},
     "source": [
      "Model 3 is proved to be different with respect to model 1, 4 and 9. Its Adjusted R-square value is 0.768 which might demonstrate\n",
      "it is quite capable of prediction. Besides, Model 3 has the highest significance value with respect to the other models. Gold proved\n",
      "to be a valuable mineral for the value of Russian Ruble when it is added to the formula with Oil (it is p-value is very low and highly significant). According to the Dubin-Watson test\n",
      "of the OLS Model 3 the dependent variables oil and gold price are independent from eachother (since the value is lower than 5). Therefore we can proceed \n",
      "with the prediction and linear regression diagnostics."
     ]
    },
    {
     "cell_type": "code",
     "collapsed": false,
     "input": [
      "RUB= model3.predict({'Oil':[71.86], 'Gold':[1210.75]})\n",
      "print RUB"
     ],
     "language": "python",
     "metadata": {},
     "outputs": []
    },
    {
     "cell_type": "heading",
     "level": 3,
     "metadata": {},
     "source": [
      "MODEL DIAGNOSTICS:"
     ]
    },
    {
     "cell_type": "code",
     "collapsed": false,
     "input": [
      "outliers = model3.outlier_test()\n",
      "outliers.sort(\"unadj_p\", inplace=True, ascending=False)\n",
      "outliers.max()"
     ],
     "language": "python",
     "metadata": {},
     "outputs": []
    },
    {
     "cell_type": "heading",
     "level": 3,
     "metadata": {},
     "source": [
      "Checking Linearity"
     ]
    },
    {
     "cell_type": "code",
     "collapsed": false,
     "input": [
      "plt.scatter(dfAll[\"Oil\"], dfAll[\"RUB\"])"
     ],
     "language": "python",
     "metadata": {},
     "outputs": []
    },
    {
     "cell_type": "code",
     "collapsed": false,
     "input": [
      "plt.scatter(dfAll[\"Gold\"], dfAll[\"RUB\"])"
     ],
     "language": "python",
     "metadata": {},
     "outputs": []
    },
    {
     "cell_type": "heading",
     "level": 6,
     "metadata": {},
     "source": [
      "Linearity between dependent and independent variables doesn't seem to be violated."
     ]
    },
    {
     "cell_type": "heading",
     "level": 3,
     "metadata": {},
     "source": [
      "Checking Homoscedasticity"
     ]
    },
    {
     "cell_type": "code",
     "collapsed": false,
     "input": [
      "plt.scatter(dfAll[\"RUB\"], model3.resid)"
     ],
     "language": "python",
     "metadata": {},
     "outputs": []
    },
    {
     "cell_type": "heading",
     "level": 3,
     "metadata": {},
     "source": [
      "The residuals are not scattered randomly it is not a good sign this models should be improved or changed! Perhaps new values and criteria should be added to reach a better model."
     ]
    },
    {
     "cell_type": "heading",
     "level": 3,
     "metadata": {},
     "source": [
      "Checking Independece: Dubin WAtson test results, provided that variables are independent from each other."
     ]
    },
    {
     "cell_type": "heading",
     "level": 3,
     "metadata": {},
     "source": [
      "Checking Normality"
     ]
    },
    {
     "cell_type": "code",
     "collapsed": false,
     "input": [
      "from numpy import repeat\n",
      "plt.hist(model3.resid, weights=repeat(1.0/len(model3.resid),len(model3.resid)),bins=30,range=(min(model3.resid),max(model3.resid)))\n",
      "plt.title(\"Distribution of Residuals\")\n",
      "plt.xlabel(\"RUB/USD FX\")"
     ],
     "language": "python",
     "metadata": {},
     "outputs": []
    },
    {
     "cell_type": "heading",
     "level": 6,
     "metadata": {},
     "source": [
      "Residuals seem to be normally distributed"
     ]
    },
    {
     "cell_type": "code",
     "collapsed": false,
     "input": [],
     "language": "python",
     "metadata": {},
     "outputs": []
    }
   ],
   "metadata": {}
  }
 ]
}